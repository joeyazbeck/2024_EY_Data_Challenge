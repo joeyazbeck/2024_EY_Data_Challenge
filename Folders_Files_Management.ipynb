{
 "cells": [
  {
   "cell_type": "markdown",
   "id": "38fc69ac-2850-4694-9dcb-048f06b29b54",
   "metadata": {},
   "source": [
    "Deleting a folder."
   ]
  },
  {
   "cell_type": "code",
   "execution_count": 24,
   "id": "41900c23-c24e-4cf9-b14c-3e879909666f",
   "metadata": {},
   "outputs": [],
   "source": [
    "rm -r datasets/val/*"
   ]
  },
  {
   "cell_type": "markdown",
   "id": "659fc41f-ae05-4d46-a82d-ad044d7de35d",
   "metadata": {},
   "source": [
    "Cleaning after run."
   ]
  },
  {
   "cell_type": "code",
   "execution_count": 30,
   "id": "d0d14d21-14f3-4a1e-997e-023eb0d52112",
   "metadata": {},
   "outputs": [],
   "source": [
    "rm -r runs/detect/*"
   ]
  },
  {
   "cell_type": "markdown",
   "id": "2347b045-9149-4298-ab98-96aac922ca6f",
   "metadata": {},
   "source": [
    "Moving files to fit to YOLO requirements."
   ]
  },
  {
   "cell_type": "code",
   "execution_count": 25,
   "id": "60bea6d7-689d-45f7-aebc-f431d762af84",
   "metadata": {},
   "outputs": [],
   "source": [
    "mv Annotated_Data/YOLODataset/images/train/* datasets/train/"
   ]
  },
  {
   "cell_type": "code",
   "execution_count": 26,
   "id": "c73a0e56-4890-4379-96e2-09d87d74e83d",
   "metadata": {},
   "outputs": [],
   "source": [
    "mv Annotated_Data/YOLODataset/images/val/* datasets/val/"
   ]
  },
  {
   "cell_type": "code",
   "execution_count": 27,
   "id": "1d25d026-8266-494f-ae27-9be33e73e86c",
   "metadata": {},
   "outputs": [],
   "source": [
    "mv Annotated_Data/YOLODataset/labels/train/* datasets/train/"
   ]
  },
  {
   "cell_type": "code",
   "execution_count": 28,
   "id": "c72a4026-8480-40c0-a4f1-7c46c14a78c8",
   "metadata": {},
   "outputs": [],
   "source": [
    "mv Annotated_Data/YOLODataset/labels/val/* datasets/val/"
   ]
  },
  {
   "cell_type": "code",
   "execution_count": 29,
   "id": "f5877904-d0ed-4ea3-ba3f-0e3f8c92de10",
   "metadata": {},
   "outputs": [],
   "source": [
    "rm -r Annotated_Data/YOLODataset"
   ]
  },
  {
   "cell_type": "code",
   "execution_count": null,
   "id": "b6adf132-cb79-46dd-8468-88f3605f5742",
   "metadata": {},
   "outputs": [],
   "source": []
  }
 ],
 "metadata": {
  "kernelspec": {
   "display_name": "Python 3 (ipykernel)",
   "language": "python",
   "name": "python3"
  },
  "language_info": {
   "codemirror_mode": {
    "name": "ipython",
    "version": 3
   },
   "file_extension": ".py",
   "mimetype": "text/x-python",
   "name": "python",
   "nbconvert_exporter": "python",
   "pygments_lexer": "ipython3",
   "version": "3.11.8"
  }
 },
 "nbformat": 4,
 "nbformat_minor": 5
}
